{
 "cells": [
  {
   "cell_type": "code",
   "execution_count": 31,
   "metadata": {
    "collapsed": true
   },
   "outputs": [],
   "source": []
  },
  {
   "cell_type": "code",
   "execution_count": 792,
   "metadata": {
    "collapsed": false
   },
   "outputs": [
    {
     "name": "stdout",
     "output_type": "stream",
     "text": [
      "Populating the interactive namespace from numpy and matplotlib\n"
     ]
    },
    {
     "name": "stderr",
     "output_type": "stream",
     "text": [
      "WARNING: pylab import has clobbered these variables: ['test', 'shuffle']\n",
      "`%matplotlib` prevents importing * from pylab and numpy\n"
     ]
    }
   ],
   "source": [
    "%pylab inline"
   ]
  },
  {
   "cell_type": "code",
   "execution_count": 793,
   "metadata": {
    "collapsed": true
   },
   "outputs": [],
   "source": [
    "import math\n",
    "import scipy.io\n",
    "import numpy as np\n",
    "import matplotlib.pyplot as plt"
   ]
  },
  {
   "cell_type": "code",
   "execution_count": 794,
   "metadata": {
    "collapsed": false
   },
   "outputs": [
    {
     "name": "stdout",
     "output_type": "stream",
     "text": [
      "/Users/agrimabahl/Dropbox\n"
     ]
    }
   ],
   "source": [
    "cd \"~/dropbox\""
   ]
  },
  {
   "cell_type": "code",
   "execution_count": 795,
   "metadata": {
    "collapsed": false
   },
   "outputs": [],
   "source": [
    "training = scipy.io.loadmat('train.mat')"
   ]
  },
  {
   "cell_type": "code",
   "execution_count": 796,
   "metadata": {
    "collapsed": true
   },
   "outputs": [],
   "source": [
    "test=scipy.io.loadmat('test.mat')"
   ]
  },
  {
   "cell_type": "code",
   "execution_count": 797,
   "metadata": {
    "collapsed": false
   },
   "outputs": [],
   "source": [
    "newt=training[\"train_images\"]"
   ]
  },
  {
   "cell_type": "code",
   "execution_count": 798,
   "metadata": {
    "collapsed": false
   },
   "outputs": [],
   "source": [
    "newt=newt.transpose()"
   ]
  },
  {
   "cell_type": "code",
   "execution_count": 799,
   "metadata": {
    "collapsed": true
   },
   "outputs": [],
   "source": [
    "def montage_images(images):\n",
    "    num_images=min(1000,np.size(images,2))\n",
    "    numrows=math.floor(math.sqrt(num_images))\n",
    "    numcols=math.ceil(num_images/numrows)\n",
    "    img=np.zeros((numrows*28,numcols*28));\n",
    "    for k in range(num_images):\n",
    "        r = k % numrows\n",
    "        c = k // numrows\n",
    "        img[r*28:(r+1)*28,c*28:(c+1)*28]=images[:,:,k];\n",
    "    return img\n",
    "\n"
   ]
  },
  {
   "cell_type": "code",
   "execution_count": 800,
   "metadata": {
    "collapsed": false
   },
   "outputs": [],
   "source": [
    "train_matrix=np.empty((60000,28,28))\n",
    "for i in range(0,28):\n",
    "    for j in range(0,28):\n",
    "        for k in range(0,60000):\n",
    "            train_matrix[k][j][i]=newt[k][i][j]"
   ]
  },
  {
   "cell_type": "code",
   "execution_count": 801,
   "metadata": {
    "collapsed": false
   },
   "outputs": [
    {
     "data": {
      "text/plain": [
       "(60000, 28, 28)"
      ]
     },
     "execution_count": 801,
     "metadata": {},
     "output_type": "execute_result"
    }
   ],
   "source": [
    "train_matrix.shape"
   ]
  },
  {
   "cell_type": "code",
   "execution_count": 802,
   "metadata": {
    "collapsed": false
   },
   "outputs": [],
   "source": [
    "Ytrain=training[\"train_labels\"]\n"
   ]
  },
  {
   "cell_type": "code",
   "execution_count": 803,
   "metadata": {
    "collapsed": false
   },
   "outputs": [
    {
     "data": {
      "text/plain": [
       "<matplotlib.image.AxesImage at 0x10c5b8e80>"
      ]
     },
     "execution_count": 803,
     "metadata": {},
     "output_type": "execute_result"
    },
    {
     "data": {
      "image/png": "[encoded data removed]",
      "text/plain": [
       "<matplotlib.figure.Figure at 0x10baff5f8>"
      ]
     },
     "metadata": {},
     "output_type": "display_data"
    }
   ],
   "source": [
    "plt.imshow(train_matrix[45051])"
   ]
  },
  {
   "cell_type": "code",
   "execution_count": null,
   "metadata": {
    "collapsed": false
   },
   "outputs": [],
   "source": []
  },
  {
   "cell_type": "code",
   "execution_count": 804,
   "metadata": {
    "collapsed": false
   },
   "outputs": [],
   "source": [
    "train_before=train_matrix.reshape(60000,784)\n"
   ]
  },
  {
   "cell_type": "code",
   "execution_count": 808,
   "metadata": {
    "collapsed": false
   },
   "outputs": [],
   "source": [
    "train_matrix=train_before/255.0"
   ]
  },
  {
   "cell_type": "code",
   "execution_count": 809,
   "metadata": {
    "collapsed": true
   },
   "outputs": [],
   "source": [
    "train_matrix=np.insert(train_matrix, 784, values=1, axis=1)"
   ]
  },
  {
   "cell_type": "code",
   "execution_count": 812,
   "metadata": {
    "collapsed": false
   },
   "outputs": [],
   "source": [
    "from sklearn.utils import shuffle\n",
    "train_matrix, Ymatrix = shuffle(train_matrix, Ymatrix, random_state=0)"
   ]
  },
  {
   "cell_type": "code",
   "execution_count": 813,
   "metadata": {
    "collapsed": true
   },
   "outputs": [],
   "source": [
    "def sigmoid(x):\n",
    "    return 1/(1+np.exp(-x))"
   ]
  },
  {
   "cell_type": "code",
   "execution_count": 878,
   "metadata": {
    "collapsed": false
   },
   "outputs": [],
   "source": [
    "#tanh(Vx)=h\n",
    "#z=\n",
    "class NeuralNetwork (object):\n",
    "    def __init__(self):\n",
    "        self.inpt=785\n",
    "        self.output=10\n",
    "        self.hidden=200\n",
    "        random.seed([2,1])\n",
    "        self.V=np.random.normal(0,0.01,[self.hidden,self.inpt])\n",
    "        random.seed([1,2])\n",
    "        self.W=np.random.normal(0,0.01,[self.output,self.hidden+1])\n",
    "        \n",
    "    def forwardprop(self,train,W,V):\n",
    "        self.p1=train.dot(V.transpose())\n",
    "        self.xj1=tanh(self.p1)\n",
    "        self.xj1=np.insert(self.xj1, 200, values=1, axis=1)\n",
    "        self.p2=self.xj1.dot(W.transpose())\n",
    "        self.xj2=sigmoid(self.p2)\n",
    "        return self.xj1,self.xj2\n",
    "    \n",
    "    def squared_loss(self,pred,Ytrain):\n",
    "        self.loss=0.5*(Ytrain-pred)**2\n",
    "        loss_matrix=np.zeros((len(Ytrain),1))\n",
    "        loss_matrix=[sum(self.loss[i])for i in range(len(self.loss))]\n",
    "        return (sum(loss_matrix))\n",
    "    \n",
    "    \n",
    "    def dLdz(self,pred,Ytrain):\n",
    "        return (pred-Ytrain)\n",
    "    \n",
    "    \n",
    "    def backwardprop(self,X,Y,W,V):\n",
    "        self.h,pred=self.forwardprop(X,W,V)\n",
    "        delta3=np.multiply(self.dLdz(pred,Y),pred*(1-pred))\n",
    "        dLdW=np.dot(self.h.transpose(),delta3)\n",
    "        \n",
    "        delta2=np.dot(delta3,W)*(1-self.h**2)\n",
    "        dLdV=np.dot(X.transpose(),delta2)\n",
    "        return dLdW,dLdV\n",
    "    #def backward(self,Xtrain,Ytrain):\n",
    "    \n",
    "    def trainer(self,X,Y):\n",
    "        Wi=self.W\n",
    "        Vi=self.V\n",
    "        return self.stochgradient(X,Y,Wi,Vi)\n",
    "    \n",
    "    def stochgradient(self,X,Y,W,V):\n",
    "        eps = 0.000013\n",
    "        xj1,pred=self.forwardprop(X,W,V)\n",
    "        dLdW,dLdV=self.backwardprop(X,Y,W,V)\n",
    "        risk_fn=[0]*1000\n",
    "        for i in range(len(X)):\n",
    "            xj1,pred=self.forwardprop(X,W,V)\n",
    "            dLdW,dLdV=self.backwardprop(X,Y,W,V)\n",
    "            if i%50==0:\n",
    "                j=int(i/50)\n",
    "                risk_fn[j]=self.squared_loss(pred,Y)\n",
    "                print(risk_fn[j])\n",
    "            W=W-eps*dLdW.transpose()\n",
    "            V=V-eps*dLdV[:,:200].transpose()\n",
    "        return W,V,risk_fn\n",
    "        \n",
    "        \n",
    "    #def backprop "
   ]
  },
  {
   "cell_type": "code",
   "execution_count": null,
   "metadata": {
    "collapsed": false
   },
   "outputs": [],
   "source": []
  },
  {
   "cell_type": "code",
   "execution_count": 879,
   "metadata": {
    "collapsed": true
   },
   "outputs": [],
   "source": [
    "new=NeuralNetwork()"
   ]
  },
  {
   "cell_type": "code",
   "execution_count": 880,
   "metadata": {
    "collapsed": false
   },
   "outputs": [],
   "source": [
    "xj1,pred=new.forwardprop(train_matrix[:50000],np.random.normal(0,0.01,[10,201]),np.random.normal(0,0.01,[200,785]))"
   ]
  },
  {
   "cell_type": "code",
   "execution_count": 761,
   "metadata": {
    "collapsed": false
   },
   "outputs": [],
   "source": [
    "dW,dV=new.backwardprop(train_matrix[:50000],Ymatrix[:50000],np.random.normal(0,0.01,[10,201]),np.random.normal(0,0.01,[200,785]))"
   ]
  },
  {
   "cell_type": "code",
   "execution_count": 15,
   "metadata": {
    "collapsed": false
   },
   "outputs": [],
   "source": [
    "Ytrain=np.zeros((len(training[\"train_labels\"])))\n",
    "for i in range(len(training[\"train_labels\"])):\n",
    "    Ytrain[i]=int(training[\"train_labels\"][i])"
   ]
  },
  {
   "cell_type": "code",
   "execution_count": null,
   "metadata": {
    "collapsed": false
   },
   "outputs": [],
   "source": [
    "l=new.cross_entropy_loss(pred,Ymatrix[:50000])"
   ]
  },
  {
   "cell_type": "code",
   "execution_count": 97,
   "metadata": {
    "collapsed": false
   },
   "outputs": [],
   "source": [
    "train_labels=np.zeros((len(Ytrain),10))\n",
    "24995.0246868"
   ]
  },
  {
   "cell_type": "code",
   "execution_count": 361,
   "metadata": {
    "collapsed": false
   },
   "outputs": [],
   "source": [
    "def dtanh(x):\n",
    "    return 1-tanh(x)**2"
   ]
  },
  {
   "cell_type": "code",
   "execution_count": 172,
   "metadata": {
    "collapsed": false
   },
   "outputs": [],
   "source": [
    "def dsigmoid(x):\n",
    "    return np.exp(-x)/((1+np.exp(-x))**2)"
   ]
  },
  {
   "cell_type": "code",
   "execution_count": null,
   "metadata": {
    "collapsed": false
   },
   "outputs": [],
   "source": [
    "def Lmean_squared(ypred,ylabel):\n",
    "    return "
   ]
  },
  {
   "cell_type": "code",
   "execution_count": 817,
   "metadata": {
    "collapsed": true
   },
   "outputs": [],
   "source": [
    "import timeit\n",
    "start_time = timeit.default_timer()"
   ]
  },
  {
   "cell_type": "code",
   "execution_count": 881,
   "metadata": {
    "collapsed": false
   },
   "outputs": [
    {
     "name": "stdout",
     "output_type": "stream",
     "text": [
      "62507.499776\n",
      "21346.0462536\n",
      "15367.3318235\n",
      "11577.472317\n",
      "9649.4772193\n",
      "8300.01097198\n",
      "7475.58974735\n",
      "6938.89446388\n",
      "6556.24505807\n",
      "6261.83982687\n",
      "6022.62094236\n",
      "5820.55028449\n",
      "5644.94327118\n",
      "5489.05231172\n",
      "5348.39678454\n",
      "5219.86993693\n",
      "5101.23010671\n",
      "4990.80109492\n",
      "4887.29295273\n",
      "4789.69249636\n",
      "4697.19323193\n",
      "4609.14727521\n",
      "4525.03015619\n",
      "4444.4141453\n",
      "4366.94789717\n"
     ]
    },
    {
     "ename": "KeyboardInterrupt",
     "evalue": "",
     "output_type": "error",
     "traceback": [
      "\u001b[0;31m---------------------------------------------------------------------------\u001b[0m",
      "\u001b[0;31mKeyboardInterrupt\u001b[0m                         Traceback (most recent call last)",
      "\u001b[0;32m<ipython-input-881-07bb084ef0ae>\u001b[0m in \u001b[0;36m<module>\u001b[0;34m()\u001b[0m\n\u001b[0;32m----> 1\u001b[0;31m \u001b[0mw2\u001b[0m\u001b[0;34m,\u001b[0m\u001b[0mv2\u001b[0m\u001b[0;34m,\u001b[0m\u001b[0mr2\u001b[0m\u001b[0;34m=\u001b[0m\u001b[0mnew\u001b[0m\u001b[0;34m.\u001b[0m\u001b[0mtrainer\u001b[0m\u001b[0;34m(\u001b[0m\u001b[0mtrain_matrix\u001b[0m\u001b[0;34m[\u001b[0m\u001b[0;34m:\u001b[0m\u001b[0;36m50000\u001b[0m\u001b[0;34m]\u001b[0m\u001b[0;34m,\u001b[0m\u001b[0mYmatrix\u001b[0m\u001b[0;34m[\u001b[0m\u001b[0;34m:\u001b[0m\u001b[0;36m50000\u001b[0m\u001b[0;34m]\u001b[0m\u001b[0;34m)\u001b[0m\u001b[0;34m\u001b[0m\u001b[0m\n\u001b[0m",
      "\u001b[0;32m<ipython-input-878-75e5f7640716>\u001b[0m in \u001b[0;36mtrainer\u001b[0;34m(self, X, Y)\u001b[0m\n\u001b[1;32m     43\u001b[0m         \u001b[0mWi\u001b[0m\u001b[0;34m=\u001b[0m\u001b[0mself\u001b[0m\u001b[0;34m.\u001b[0m\u001b[0mW\u001b[0m\u001b[0;34m\u001b[0m\u001b[0m\n\u001b[1;32m     44\u001b[0m         \u001b[0mVi\u001b[0m\u001b[0;34m=\u001b[0m\u001b[0mself\u001b[0m\u001b[0;34m.\u001b[0m\u001b[0mV\u001b[0m\u001b[0;34m\u001b[0m\u001b[0m\n\u001b[0;32m---> 45\u001b[0;31m         \u001b[0;32mreturn\u001b[0m \u001b[0mself\u001b[0m\u001b[0;34m.\u001b[0m\u001b[0mstochgradient\u001b[0m\u001b[0;34m(\u001b[0m\u001b[0mX\u001b[0m\u001b[0;34m,\u001b[0m\u001b[0mY\u001b[0m\u001b[0;34m,\u001b[0m\u001b[0mWi\u001b[0m\u001b[0;34m,\u001b[0m\u001b[0mVi\u001b[0m\u001b[0;34m)\u001b[0m\u001b[0;34m\u001b[0m\u001b[0m\n\u001b[0m\u001b[1;32m     46\u001b[0m \u001b[0;34m\u001b[0m\u001b[0m\n\u001b[1;32m     47\u001b[0m     \u001b[0;32mdef\u001b[0m \u001b[0mstochgradient\u001b[0m\u001b[0;34m(\u001b[0m\u001b[0mself\u001b[0m\u001b[0;34m,\u001b[0m\u001b[0mX\u001b[0m\u001b[0;34m,\u001b[0m\u001b[0mY\u001b[0m\u001b[0;34m,\u001b[0m\u001b[0mW\u001b[0m\u001b[0;34m,\u001b[0m\u001b[0mV\u001b[0m\u001b[0;34m)\u001b[0m\u001b[0;34m:\u001b[0m\u001b[0;34m\u001b[0m\u001b[0m\n",
      "\u001b[0;32m<ipython-input-878-75e5f7640716>\u001b[0m in \u001b[0;36mstochgradient\u001b[0;34m(self, X, Y, W, V)\u001b[0m\n\u001b[1;32m     51\u001b[0m         \u001b[0mrisk_fn\u001b[0m\u001b[0;34m=\u001b[0m\u001b[0;34m[\u001b[0m\u001b[0;36m0\u001b[0m\u001b[0;34m]\u001b[0m\u001b[0;34m*\u001b[0m\u001b[0;36m1000\u001b[0m\u001b[0;34m\u001b[0m\u001b[0m\n\u001b[1;32m     52\u001b[0m         \u001b[0;32mfor\u001b[0m \u001b[0mi\u001b[0m \u001b[0;32min\u001b[0m \u001b[0mrange\u001b[0m\u001b[0;34m(\u001b[0m\u001b[0mlen\u001b[0m\u001b[0;34m(\u001b[0m\u001b[0mX\u001b[0m\u001b[0;34m)\u001b[0m\u001b[0;34m)\u001b[0m\u001b[0;34m:\u001b[0m\u001b[0;34m\u001b[0m\u001b[0m\n\u001b[0;32m---> 53\u001b[0;31m             \u001b[0mxj1\u001b[0m\u001b[0;34m,\u001b[0m\u001b[0mpred\u001b[0m\u001b[0;34m=\u001b[0m\u001b[0mself\u001b[0m\u001b[0;34m.\u001b[0m\u001b[0mforwardprop\u001b[0m\u001b[0;34m(\u001b[0m\u001b[0mX\u001b[0m\u001b[0;34m,\u001b[0m\u001b[0mW\u001b[0m\u001b[0;34m,\u001b[0m\u001b[0mV\u001b[0m\u001b[0;34m)\u001b[0m\u001b[0;34m\u001b[0m\u001b[0m\n\u001b[0m\u001b[1;32m     54\u001b[0m             \u001b[0mdLdW\u001b[0m\u001b[0;34m,\u001b[0m\u001b[0mdLdV\u001b[0m\u001b[0;34m=\u001b[0m\u001b[0mself\u001b[0m\u001b[0;34m.\u001b[0m\u001b[0mbackwardprop\u001b[0m\u001b[0;34m(\u001b[0m\u001b[0mX\u001b[0m\u001b[0;34m,\u001b[0m\u001b[0mY\u001b[0m\u001b[0;34m,\u001b[0m\u001b[0mW\u001b[0m\u001b[0;34m,\u001b[0m\u001b[0mV\u001b[0m\u001b[0;34m)\u001b[0m\u001b[0;34m\u001b[0m\u001b[0m\n\u001b[1;32m     55\u001b[0m             \u001b[0;32mif\u001b[0m \u001b[0mi\u001b[0m\u001b[0;34m%\u001b[0m\u001b[0;36m50\u001b[0m\u001b[0;34m==\u001b[0m\u001b[0;36m0\u001b[0m\u001b[0;34m:\u001b[0m\u001b[0;34m\u001b[0m\u001b[0m\n",
      "\u001b[0;32m<ipython-input-878-75e5f7640716>\u001b[0m in \u001b[0;36mforwardprop\u001b[0;34m(self, train, W, V)\u001b[0m\n\u001b[1;32m     12\u001b[0m \u001b[0;34m\u001b[0m\u001b[0m\n\u001b[1;32m     13\u001b[0m     \u001b[0;32mdef\u001b[0m \u001b[0mforwardprop\u001b[0m\u001b[0;34m(\u001b[0m\u001b[0mself\u001b[0m\u001b[0;34m,\u001b[0m\u001b[0mtrain\u001b[0m\u001b[0;34m,\u001b[0m\u001b[0mW\u001b[0m\u001b[0;34m,\u001b[0m\u001b[0mV\u001b[0m\u001b[0;34m)\u001b[0m\u001b[0;34m:\u001b[0m\u001b[0;34m\u001b[0m\u001b[0m\n\u001b[0;32m---> 14\u001b[0;31m         \u001b[0mself\u001b[0m\u001b[0;34m.\u001b[0m\u001b[0mp1\u001b[0m\u001b[0;34m=\u001b[0m\u001b[0mtrain\u001b[0m\u001b[0;34m.\u001b[0m\u001b[0mdot\u001b[0m\u001b[0;34m(\u001b[0m\u001b[0mV\u001b[0m\u001b[0;34m.\u001b[0m\u001b[0mtranspose\u001b[0m\u001b[0;34m(\u001b[0m\u001b[0;34m)\u001b[0m\u001b[0;34m)\u001b[0m\u001b[0;34m\u001b[0m\u001b[0m\n\u001b[0m\u001b[1;32m     15\u001b[0m         \u001b[0mself\u001b[0m\u001b[0;34m.\u001b[0m\u001b[0mxj1\u001b[0m\u001b[0;34m=\u001b[0m\u001b[0mtanh\u001b[0m\u001b[0;34m(\u001b[0m\u001b[0mself\u001b[0m\u001b[0;34m.\u001b[0m\u001b[0mp1\u001b[0m\u001b[0;34m)\u001b[0m\u001b[0;34m\u001b[0m\u001b[0m\n\u001b[1;32m     16\u001b[0m         \u001b[0mself\u001b[0m\u001b[0;34m.\u001b[0m\u001b[0mxj1\u001b[0m\u001b[0;34m=\u001b[0m\u001b[0mnp\u001b[0m\u001b[0;34m.\u001b[0m\u001b[0minsert\u001b[0m\u001b[0;34m(\u001b[0m\u001b[0mself\u001b[0m\u001b[0;34m.\u001b[0m\u001b[0mxj1\u001b[0m\u001b[0;34m,\u001b[0m \u001b[0;36m200\u001b[0m\u001b[0;34m,\u001b[0m \u001b[0mvalues\u001b[0m\u001b[0;34m=\u001b[0m\u001b[0;36m1\u001b[0m\u001b[0;34m,\u001b[0m \u001b[0maxis\u001b[0m\u001b[0;34m=\u001b[0m\u001b[0;36m1\u001b[0m\u001b[0;34m)\u001b[0m\u001b[0;34m\u001b[0m\u001b[0m\n",
      "\u001b[0;31mKeyboardInterrupt\u001b[0m: "
     ]
    }
   ],
   "source": [
    "w2,v2,r2=new.trainer(train_matrix[:50000],Ymatrix[:50000])"
   ]
  },
  {
   "cell_type": "code",
   "execution_count": null,
   "metadata": {
    "collapsed": true
   },
   "outputs": [],
   "source": [
    "elapsed = timeit.default_timer() - start_time"
   ]
  },
  {
   "cell_type": "code",
   "execution_count": 868,
   "metadata": {
    "collapsed": false
   },
   "outputs": [],
   "source": [
    "xj1,pred=new.forwardprop(train_matrix[50000:],w2,v2)"
   ]
  },
  {
   "cell_type": "code",
   "execution_count": null,
   "metadata": {
    "collapsed": false
   },
   "outputs": [],
   "source": [
    "elapsed"
   ]
  },
  {
   "cell_type": "code",
   "execution_count": 213,
   "metadata": {
    "collapsed": false
   },
   "outputs": [],
   "source": [
    "xj1,pred=new.forwardprop(test_matrix,w,v)"
   ]
  },
  {
   "cell_type": "code",
   "execution_count": 829,
   "metadata": {
    "collapsed": false
   },
   "outputs": [],
   "source": [
    "y=np.zeros(10000)"
   ]
  },
  {
   "cell_type": "code",
   "execution_count": 810,
   "metadata": {
    "collapsed": false
   },
   "outputs": [],
   "source": [
    "Ymatrix=np.zeros((len(Ytrain),10))"
   ]
  },
  {
   "cell_type": "code",
   "execution_count": 811,
   "metadata": {
    "collapsed": false
   },
   "outputs": [],
   "source": [
    "for i in range(len(Ymatrix)):\n",
    "    Ymatrix[i][int(Ytrain[i])]=1"
   ]
  },
  {
   "cell_type": "code",
   "execution_count": 56,
   "metadata": {
    "collapsed": false
   },
   "outputs": [],
   "source": [
    "pred=np.zeros((50000,10))"
   ]
  },
  {
   "cell_type": "code",
   "execution_count": 223,
   "metadata": {
    "collapsed": false
   },
   "outputs": [],
   "source": [
    "def benchmark(pred_labels, true_labels):\n",
    "    errors = pred_labels != true_labels\n",
    "    err_rate = sum(errors) / float(len(true_labels))\n",
    "    indices = errors.nonzero()\n",
    "    return err_rate,indices"
   ]
  },
  {
   "cell_type": "code",
   "execution_count": 869,
   "metadata": {
    "collapsed": false
   },
   "outputs": [],
   "source": [
    "for i in range(len(pred)):\n",
    "    pred_tuple[i]=np.argmax(pred[i])"
   ]
  },
  {
   "cell_type": "code",
   "execution_count": 146,
   "metadata": {
    "collapsed": false
   },
   "outputs": [],
   "source": [
    "pred_tuple=[0]*len(pred)"
   ]
  },
  {
   "cell_type": "code",
   "execution_count": 883,
   "metadata": {
    "collapsed": false
   },
   "outputs": [
    {
     "ename": "IndexError",
     "evalue": "list assignment index out of range",
     "output_type": "error",
     "traceback": [
      "\u001b[0;31m---------------------------------------------------------------------------\u001b[0m",
      "\u001b[0;31mIndexError\u001b[0m                                Traceback (most recent call last)",
      "\u001b[0;32m<ipython-input-883-be5301003132>\u001b[0m in \u001b[0;36m<module>\u001b[0;34m()\u001b[0m\n\u001b[1;32m      1\u001b[0m \u001b[0;32mfor\u001b[0m \u001b[0mi\u001b[0m \u001b[0;32min\u001b[0m \u001b[0mrange\u001b[0m\u001b[0;34m(\u001b[0m\u001b[0mlen\u001b[0m\u001b[0;34m(\u001b[0m\u001b[0mYmatrix\u001b[0m\u001b[0;34m[\u001b[0m\u001b[0;36m50000\u001b[0m\u001b[0;34m:\u001b[0m\u001b[0;34m]\u001b[0m\u001b[0;34m)\u001b[0m\u001b[0;34m)\u001b[0m\u001b[0;34m:\u001b[0m\u001b[0;34m\u001b[0m\u001b[0m\n\u001b[0;32m----> 2\u001b[0;31m     \u001b[0my\u001b[0m\u001b[0;34m[\u001b[0m\u001b[0mi\u001b[0m\u001b[0;34m]\u001b[0m\u001b[0;34m=\u001b[0m\u001b[0mnp\u001b[0m\u001b[0;34m.\u001b[0m\u001b[0margmax\u001b[0m\u001b[0;34m(\u001b[0m\u001b[0mYmatrix\u001b[0m\u001b[0;34m[\u001b[0m\u001b[0;36m50000\u001b[0m\u001b[0;34m+\u001b[0m\u001b[0mi\u001b[0m\u001b[0;34m]\u001b[0m\u001b[0;34m)\u001b[0m\u001b[0;34m\u001b[0m\u001b[0m\n\u001b[0m",
      "\u001b[0;31mIndexError\u001b[0m: list assignment index out of range"
     ]
    }
   ],
   "source": [
    "for i in range(len(Ymatrix[50000:])):\n",
    "    y[i]=np.argmax(Ymatrix[50000+i])"
   ]
  },
  {
   "cell_type": "code",
   "execution_count": null,
   "metadata": {
    "collapsed": false
   },
   "outputs": [],
   "source": []
  },
  {
   "cell_type": "code",
   "execution_count": 618,
   "metadata": {
    "collapsed": false
   },
   "outputs": [
    {
     "data": {
      "text/plain": [
       "60000"
      ]
     },
     "execution_count": 618,
     "metadata": {},
     "output_type": "execute_result"
    }
   ],
   "source": [
    "len(Ymatrix)"
   ]
  },
  {
   "cell_type": "code",
   "execution_count": 619,
   "metadata": {
    "collapsed": false
   },
   "outputs": [],
   "source": [
    "x=[1,2,3]"
   ]
  },
  {
   "cell_type": "code",
   "execution_count": null,
   "metadata": {
    "collapsed": false
   },
   "outputs": [],
   "source": []
  },
  {
   "cell_type": "code",
   "execution_count": 870,
   "metadata": {
    "collapsed": false
   },
   "outputs": [
    {
     "data": {
      "text/plain": [
       "(0.13650000000000001, (array([   9,   10,   27, ..., 9974, 9990, 9997]),))"
      ]
     },
     "execution_count": 870,
     "metadata": {},
     "output_type": "execute_result"
    }
   ],
   "source": [
    "benchmark(np.array(pred_tuple),np.array(y))"
   ]
  },
  {
   "cell_type": "code",
   "execution_count": null,
   "metadata": {
    "collapsed": false
   },
   "outputs": [],
   "source": []
  },
  {
   "cell_type": "code",
   "execution_count": 705,
   "metadata": {
    "collapsed": false
   },
   "outputs": [
    {
     "data": {
      "text/plain": [
       "list"
      ]
     },
     "execution_count": 705,
     "metadata": {},
     "output_type": "execute_result"
    }
   ],
   "source": [
    "type(y)"
   ]
  },
  {
   "cell_type": "code",
   "execution_count": 633,
   "metadata": {
    "collapsed": false
   },
   "outputs": [
    {
     "data": {
      "text/plain": [
       "0"
      ]
     },
     "execution_count": 633,
     "metadata": {},
     "output_type": "execute_result"
    }
   ],
   "source": [
    "y[9999]"
   ]
  },
  {
   "cell_type": "code",
   "execution_count": 634,
   "metadata": {
    "collapsed": false
   },
   "outputs": [
    {
     "data": {
      "text/plain": [
       "0"
      ]
     },
     "execution_count": 634,
     "metadata": {},
     "output_type": "execute_result"
    }
   ],
   "source": [
    "pred_tuple[9999]"
   ]
  },
  {
   "cell_type": "code",
   "execution_count": null,
   "metadata": {
    "collapsed": false
   },
   "outputs": [],
   "source": []
  },
  {
   "cell_type": "code",
   "execution_count": 39,
   "metadata": {
    "collapsed": false
   },
   "outputs": [],
   "source": [
    "test_matrix=test[\"test_images\"]"
   ]
  },
  {
   "cell_type": "code",
   "execution_count": 40,
   "metadata": {
    "collapsed": false
   },
   "outputs": [
    {
     "data": {
      "text/plain": [
       "<matplotlib.image.AxesImage at 0x126e52c88>"
      ]
     },
     "execution_count": 40,
     "metadata": {},
     "output_type": "execute_result"
    },
    {
     "data": {
      "image/png": "[encoded data removed]",
      "text/plain": [
       "<matplotlib.figure.Figure at 0x127b85b70>"
      ]
     },
     "metadata": {},
     "output_type": "display_data"
    }
   ],
   "source": [
    "plt.imshow(test_matrix[100])"
   ]
  },
  {
   "cell_type": "code",
   "execution_count": 41,
   "metadata": {
    "collapsed": false
   },
   "outputs": [],
   "source": [
    "test_before=test_matrix.reshape(10000,784)\n",
    "\n"
   ]
  },
  {
   "cell_type": "code",
   "execution_count": 42,
   "metadata": {
    "collapsed": false
   },
   "outputs": [],
   "source": [
    "test_matrix=test_before/255.0"
   ]
  },
  {
   "cell_type": "code",
   "execution_count": 43,
   "metadata": {
    "collapsed": false
   },
   "outputs": [],
   "source": [
    "test_matrix=np.insert(test_matrix, 784, values=1, axis=1)"
   ]
  },
  {
   "cell_type": "code",
   "execution_count": 659,
   "metadata": {
    "collapsed": false
   },
   "outputs": [
    {
     "data": {
      "text/plain": [
       "array([[  3.67381105e-04,   9.14433118e-01,   2.17302599e-02, ...,\n",
       "          1.52227865e-02,   5.11319116e-02,   4.14217413e-02],\n",
       "       [  1.05073519e-02,   2.92691363e-04,   3.39151376e-02, ...,\n",
       "          1.28784240e-04,   1.30743635e-03,   3.16949784e-03],\n",
       "       [  2.02455047e-02,   1.19496776e-05,   7.45961706e-04, ...,\n",
       "          4.73992924e-03,   4.63347905e-03,   5.66135526e-02],\n",
       "       ..., \n",
       "       [  2.13292421e-04,   9.56228878e-03,   9.77970212e-01, ...,\n",
       "          9.97501123e-04,   2.28287889e-02,   5.57891624e-03],\n",
       "       [  4.95119748e-01,   3.37691066e-05,   6.91857401e-02, ...,\n",
       "          5.41101509e-04,   1.98474557e-02,   3.23536998e-03],\n",
       "       [  7.18967579e-03,   3.21356027e-03,   7.88287642e-02, ...,\n",
       "          2.20376072e-02,   1.70753383e-02,   2.34997738e-01]])"
      ]
     },
     "execution_count": 659,
     "metadata": {},
     "output_type": "execute_result"
    }
   ],
   "source": [
    "pred"
   ]
  },
  {
   "cell_type": "code",
   "execution_count": 189,
   "metadata": {
    "collapsed": false
   },
   "outputs": [],
   "source": [
    "for i in range(len(pred)):\n",
    "    pred_tuple_test[i]=np.argmax(pred[i])"
   ]
  },
  {
   "cell_type": "code",
   "execution_count": 47,
   "metadata": {
    "collapsed": true
   },
   "outputs": [],
   "source": [
    "pred_tuple_test=[0]*len(pred)"
   ]
  },
  {
   "cell_type": "code",
   "execution_count": 190,
   "metadata": {
    "collapsed": true
   },
   "outputs": [],
   "source": [
    "numpy.savetxt(\"HW6-Agrima.csv\", pred_tuple_test, delimiter=\",\")"
   ]
  },
  {
   "cell_type": "code",
   "execution_count": 50,
   "metadata": {
    "collapsed": false
   },
   "outputs": [
    {
     "data": {
      "text/plain": [
       "7"
      ]
     },
     "execution_count": 50,
     "metadata": {},
     "output_type": "execute_result"
    }
   ],
   "source": [
    "pred_tuple_test[100]"
   ]
  },
  {
   "cell_type": "code",
   "execution_count": 82,
   "metadata": {
    "collapsed": false
   },
   "outputs": [
    {
     "data": {
      "text/plain": [
       "1.0986122886681098"
      ]
     },
     "execution_count": 82,
     "metadata": {},
     "output_type": "execute_result"
    }
   ],
   "source": [
    "for i in range(len(pred)):\n",
    "            self.loss_matrix[i]=Ytrain2[i]*a1[i]+(1-Ytrain2[i])*a2[i]"
   ]
  },
  {
   "cell_type": "code",
   "execution_count": 88,
   "metadata": {
    "collapsed": true
   },
   "outputs": [],
   "source": [
    "def cross_entropy_loss(self,pred,Ytrain):\n",
    "        self.a1=log(pred)\n",
    "        self.a2=log(1-pred)\n",
    "        self.loss_matrix=np.zeros((len(Ytrain),1))\n",
    "        for i in range(len(pred)):\n",
    "            loss_matrix[i]=Ytrain[i].dot(a1)+(1-Ytrain[i]).dot(a2)\n",
    "        return (sum(loss_matrix))    "
   ]
  },
  {
   "cell_type": "code",
   "execution_count": 352,
   "metadata": {
    "collapsed": false
   },
   "outputs": [],
   "source": [
    "a=np.array([1,2,34,5])"
   ]
  },
  {
   "cell_type": "code",
   "execution_count": 356,
   "metadata": {
    "collapsed": true
   },
   "outputs": [],
   "source": [
    "x=np.array([0.5,2,17,2])"
   ]
  },
  {
   "cell_type": "code",
   "execution_count": null,
   "metadata": {
    "collapsed": false
   },
   "outputs": [],
   "source": []
  },
  {
   "cell_type": "code",
   "execution_count": 500,
   "metadata": {
    "collapsed": false
   },
   "outputs": [
    {
     "data": {
      "text/plain": [
       "<matplotlib.text.Text at 0x1532339e8>"
      ]
     },
     "execution_count": 500,
     "metadata": {},
     "output_type": "execute_result"
    },
    {
     "data": {
      "image/png": "[encoded data removed]",
      "text/plain": [
       "<matplotlib.figure.Figure at 0x12a945518>"
      ]
     },
     "metadata": {},
     "output_type": "display_data"
    }
   ],
   "source": [
    "plt.plot(r)\n",
    "plt.xlabel('Training set size', fontsize=18)\n",
    "plt.ylabel('Loss function', fontsize=16)"
   ]
  },
  {
   "cell_type": "code",
   "execution_count": 888,
   "metadata": {
    "collapsed": false
   },
   "outputs": [],
   "source": [
    "y=[1-0.93520000000000003,1-0.86339999999999995\n",
    ",1-0.86709999999999998\n",
    ",1-0.86280000000000001\n",
    ",1-0.4793\n",
    ",1-0.13650000000000001\n",
    ",1-0.090399999999999994\n",
    ",1-0.075\n",
    ",1-0.036]\n",
    "x=[100,200,500,1000,2000,5000,10000,20000,50000]                            "
   ]
  },
  {
   "cell_type": "code",
   "execution_count": 884,
   "metadata": {
    "collapsed": true
   },
   "outputs": [],
   "source": [
    "y=[12501.1983099,\n",
    "4552.42126262,\n",
    "4519.91388032,\n",
    "4480.61226188,\n",
    "4408.3859236,\n",
    "4256.48883002,\n",
    "4003.68743318,\n",
    "3759.16826535,\n",
    "3528.59205806,\n",
    "3297.83245879,\n",
    "3080.66525222,\n",
    "2884.92947639,\n",
    "2709.96811812,\n",
    "2558.3865729,\n",
    "2430.07513643,\n",
    "2320.97132313,\n",
    "2225.4573768,\n",
    "2138.36679268,\n",
    "2056.09725676,\n",
    "1977.26568856,\n",
    "1902.58000011,\n",
    "1833.50332666,\n",
    "1770.87252219,\n",
    "1714.62277592,\n",
    "1664.18855592,\n",
    "1618.87397713,\n",
    "1578.0207531,\n",
    "1541.0521393,\n",
    "1507.47087099,\n",
    "1476.84714107,\n",
    "1448.80787982,\n",
    "1423.02896418,\n",
    "1399.22941344,\n",
    "1377.16654019,\n",
    "1356.63149298,\n",
    "1337.44501567,\n",
    "1319.45344573,\n",
    "1302.52503048,\n",
    "1286.54662619,\n",
    "1271.4208096,\n",
    "1257.06339766,\n",
    "1243.40134781,\n",
    "1230.37099875,\n",
    "1217.91660631,\n",
    "1205.9891302,\n",
    "1194.54523035,\n",
    "1183.54643658,\n",
    "1172.95846042,\n",
    "1162.750623,\n",
    "1152.89537727,\n",
    "1143.36790717,\n",
    "1134.14578926,\n",
    "1125.20870568,\n",
    "1116.538199,\n",
    "1108.1174619,\n",
    "1099.9311556,\n",
    "1091.96525247,\n",
    "1084.20689888,\n",
    "1076.64429517,\n",
    "1069.26659035,\n",
    "1062.06378911,\n",
    "1055.02666967,\n",
    "1048.14671089,\n",
    "1041.41602728,\n",
    "1034.82731117,\n",
    "1028.37378078,\n",
    "1022.0491338,\n",
    "1015.84750554,\n",
    "1009.76343136,\n",
    "1003.79181264,\n",
    "997.927886127,\n",
    "992.167196185,\n",
    "986.505569619,\n",
    "980.939092883,\n",
    "975.464091373,\n",
    "970.077110634,\n",
    "964.774899266,\n",
    "959.554393387,\n",
    "954.412702474,\n",
    "949.34709647,\n",
    "944.354994013,\n",
    "939.433951683,\n",
    "934.581654157,\n",
    "929.795905176,\n",
    "925.074619237,\n",
    "920.415813944,\n",
    "915.817602925,\n",
    "911.278189284,\n",
    "906.795859514,\n",
    "902.368977847,\n",
    "897.995980991,\n",
    "893.675373244,\n",
    "889.405721949,\n",
    "885.185653291,\n",
    "881.013848405,\n",
    "876.889039804,\n",
    "872.810008104,\n",
    "868.775579046,\n",
    "864.784620792,\n",
    "860.836041494,\n",
    "856.928787116,\n",
    "853.061839479,\n",
    "849.234214533,\n",
    "845.444960815,\n",
    "841.693158074,\n",
    "837.977916055,\n",
    "834.298373396,\n",
    "830.653696648,\n",
    "827.043079366,\n",
    "823.465741286,\n",
    "819.920927547,\n",
    "816.407907961,\n",
    "812.925976315,\n",
    "809.4744497,\n",
    "806.052667846,\n",
    "802.659992482,\n",
    "799.295806693,\n",
    "795.95951429,\n",
    "792.650539175,\n",
    "789.368324717,\n",
    "786.11233312,\n",
    "782.882044808,\n",
    "779.676957795,\n",
    "776.496587073,\n",
    "773.340463998,\n",
    "770.208135682,\n",
    "767.099164396,\n",
    "764.013126971,\n",
    "760.949614221,\n",
    "757.908230358,\n",
    "754.888592435,\n",
    "751.890329784,\n",
    "748.913083472,\n",
    "745.956505771,\n",
    "743.020259624,\n",
    "740.104018143,\n",
    "737.207464099,\n",
    "734.330289434,\n",
    "731.472194776,\n",
    "728.632888973,\n",
    "725.812088626,\n",
    "723.009517644,\n",
    "720.224906795,\n",
    "717.457993283,\n",
    "714.708520323,\n",
    "711.976236733,\n",
    "709.260896534,\n",
    "706.562258567,\n",
    "703.880086117,\n",
    "701.214146557,\n",
    "698.564211003,\n",
    "695.930053984,\n",
    "693.311453138,\n",
    "690.708188916,\n",
    "688.120044314,\n",
    "685.546804627,\n",
    "682.988257222,\n",
    "680.444191337,\n",
    "677.914397916,\n",
    "675.398669461,\n",
    "672.896799923,\n",
    "670.408584623,\n",
    "667.93382021,\n",
    "665.472304658,\n",
    "663.023837297,\n",
    "660.5882189,\n",
    "658.165251802,\n",
    "655.754740076,\n",
    "653.356489762,\n",
    "650.97030915,\n",
    "648.59600912,\n",
    "646.233403556,\n",
    "643.882309824,\n",
    "641.542549327,\n",
    "639.213948143,\n",
    "636.896337757,\n",
    "634.589555888,\n",
    "632.293447417,\n",
    "630.007865431,\n",
    "627.732672371,\n",
    "625.467741279,\n",
    "623.212957142,\n",
    "620.968218286,\n",
    "618.733437776,\n",
    "616.508544768,\n",
    "614.293485713,\n",
    "612.088225298,\n",
    "609.892747024,\n",
    "607.707053266,\n",
    "605.531164718,\n",
    "603.365119113,\n",
    "601.208969193,\n",
    "599.062779928,\n",
    "596.926625089,\n",
    "594.800583336,\n",
    "592.684734037,\n",
    "590.579153096,\n",
    "588.48390904,\n",
    "586.399059627,\n",
    "584.324649157]"
   ]
  },
  {
   "cell_type": "code",
   "execution_count": 886,
   "metadata": {
    "collapsed": true
   },
   "outputs": [],
   "source": [
    "x=range(1,50000,250)\n"
   ]
  },
  {
   "cell_type": "code",
   "execution_count": 887,
   "metadata": {
    "collapsed": false
   },
   "outputs": [
    {
     "data": {
      "text/plain": [
       "<matplotlib.text.Text at 0x10c25d7b8>"
      ]
     },
     "execution_count": 887,
     "metadata": {},
     "output_type": "execute_result"
    },
    {
     "data": {
      "image/png": "[encoded data removed]",
      "text/plain": [
       "<matplotlib.figure.Figure at 0x10c114c18>"
      ]
     },
     "metadata": {},
     "output_type": "display_data"
    }
   ],
   "source": [
    "plt.plot(x,y)\n",
    "plt.xlabel('Iterations', fontsize=18)\n",
    "plt.ylabel('Loss function', fontsize=16)"
   ]
  },
  {
   "cell_type": "code",
   "execution_count": 889,
   "metadata": {
    "collapsed": false
   },
   "outputs": [
    {
     "data": {
      "text/plain": [
       "<matplotlib.text.Text at 0x10c3519b0>"
      ]
     },
     "execution_count": 889,
     "metadata": {},
     "output_type": "execute_result"
    },
    {
     "data": {
      "image/png": "[encoded data removed]",
      "text/plain": [
       "<matplotlib.figure.Figure at 0x10c2eeb38>"
      ]
     },
     "metadata": {},
     "output_type": "display_data"
    }
   ],
   "source": [
    "plt.plot(x,y)\n",
    "plt.xlabel('Training set size', fontsize=18)\n",
    "plt.ylabel('Accuracy', fontsize=16)"
   ]
  },
  {
   "cell_type": "code",
   "execution_count": 895,
   "metadata": {
    "collapsed": true
   },
   "outputs": [],
   "source": [
    "y=[1-0.44109999999999999, 1-0.28210000000000002, 1-0.21829999999999999, 1-0.1711, 1-0.1545, 1-0.1014, 1-0.054899999999999997,1-0.046,1-0.035]\n",
    "x=[100,200,500,1000,2000,5000,10000,20000,50000]"
   ]
  },
  {
   "cell_type": "code",
   "execution_count": 896,
   "metadata": {
    "collapsed": false
   },
   "outputs": [
    {
     "data": {
      "text/plain": [
       "<matplotlib.text.Text at 0x10c03db38>"
      ]
     },
     "execution_count": 896,
     "metadata": {},
     "output_type": "execute_result"
    },
    {
     "data": {
      "image/png": "[encoded data removed]",
      "text/plain": [
       "<matplotlib.figure.Figure at 0x10bb4a7b8>"
      ]
     },
     "metadata": {},
     "output_type": "display_data"
    }
   ],
   "source": [
    "plt.plot(x,y)\n",
    "plt.xlabel('Training set size', fontsize=18)\n",
    "plt.ylabel('Accuracy', fontsize=16)"
   ]
  },
  {
   "cell_type": "code",
   "execution_count": 898,
   "metadata": {
    "collapsed": false
   },
   "outputs": [
    {
     "data": {
      "text/plain": [
       "400.0"
      ]
     },
     "execution_count": 898,
     "metadata": {},
     "output_type": "execute_result"
    }
   ],
   "source": [
    "20000/50"
   ]
  },
  {
   "cell_type": "code",
   "execution_count": 899,
   "metadata": {
    "collapsed": false
   },
   "outputs": [
    {
     "data": {
      "text/plain": [
       "125.0"
      ]
     },
     "execution_count": 899,
     "metadata": {},
     "output_type": "execute_result"
    }
   ],
   "source": [
    "50000/400"
   ]
  },
  {
   "cell_type": "code",
   "execution_count": null,
   "metadata": {
    "collapsed": true
   },
   "outputs": [],
   "source": []
  }
 ],
 "metadata": {
  "kernelspec": {
   "display_name": "Python 3",
   "language": "python",
   "name": "python3"
  },
  "language_info": {
   "codemirror_mode": {
    "name": "ipython",
    "version": 3
   },
   "file_extension": ".py",
   "mimetype": "text/x-python",
   "name": "python",
   "nbconvert_exporter": "python",
   "pygments_lexer": "ipython3",
   "version": "3.5.1"
  }
 },
 "nbformat": 4,
 "nbformat_minor": 0
}
