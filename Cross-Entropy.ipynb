{
 "cells": [
  {
   "cell_type": "code",
   "execution_count": 19,
   "metadata": {
    "collapsed": false
   },
   "outputs": [
    {
     "name": "stdout",
     "output_type": "stream",
     "text": [
      "Populating the interactive namespace from numpy and matplotlib\n"
     ]
    },
    {
     "name": "stderr",
     "output_type": "stream",
     "text": [
      "WARNING: pylab import has clobbered these variables: ['test', 'shuffle']\n",
      "`%matplotlib` prevents importing * from pylab and numpy\n"
     ]
    }
   ],
   "source": [
    "%pylab inline"
   ]
  },
  {
   "cell_type": "code",
   "execution_count": 110,
   "metadata": {
    "collapsed": true
   },
   "outputs": [],
   "source": [
    "import math\n",
    "import scipy.io\n",
    "import numpy as np\n",
    "import matplotlib.pyplot as plt\n",
    "import timeit"
   ]
  },
  {
   "cell_type": "code",
   "execution_count": 21,
   "metadata": {
    "collapsed": false
   },
   "outputs": [
    {
     "name": "stdout",
     "output_type": "stream",
     "text": [
      "/Users/agrimabahl/Dropbox\n"
     ]
    }
   ],
   "source": [
    "cd \"~/dropbox\""
   ]
  },
  {
   "cell_type": "code",
   "execution_count": 22,
   "metadata": {
    "collapsed": true
   },
   "outputs": [],
   "source": [
    "training = scipy.io.loadmat('train.mat')"
   ]
  },
  {
   "cell_type": "code",
   "execution_count": 23,
   "metadata": {
    "collapsed": true
   },
   "outputs": [],
   "source": [
    "test=scipy.io.loadmat('test.mat')"
   ]
  },
  {
   "cell_type": "code",
   "execution_count": 24,
   "metadata": {
    "collapsed": true
   },
   "outputs": [],
   "source": [
    "newt=training[\"train_images\"]"
   ]
  },
  {
   "cell_type": "code",
   "execution_count": 25,
   "metadata": {
    "collapsed": true
   },
   "outputs": [],
   "source": [
    "newt=newt.transpose()"
   ]
  },
  {
   "cell_type": "code",
   "execution_count": 42,
   "metadata": {
    "collapsed": true
   },
   "outputs": [],
   "source": [
    "train_matrix=np.empty((60000,28,28))\n",
    "for i in range(0,28):\n",
    "    for j in range(0,28):\n",
    "        for k in range(0,60000):\n",
    "            train_matrix[k][j][i]=newt[k][i][j]"
   ]
  },
  {
   "cell_type": "code",
   "execution_count": 47,
   "metadata": {
    "collapsed": true
   },
   "outputs": [],
   "source": [
    "Ytrain=training[\"train_labels\"]\n",
    "\n"
   ]
  },
  {
   "cell_type": "code",
   "execution_count": 43,
   "metadata": {
    "collapsed": false
   },
   "outputs": [
    {
     "data": {
      "text/plain": [
       "<matplotlib.image.AxesImage at 0x14148b518>"
      ]
     },
     "execution_count": 43,
     "metadata": {},
     "output_type": "execute_result"
    },
    {
     "data": {
      "image/png": "[encoded data removed]",
      "text/plain": [
       "<matplotlib.figure.Figure at 0x12802deb8>"
      ]
     },
     "metadata": {},
     "output_type": "display_data"
    }
   ],
   "source": [
    "plt.imshow(train_matrix[45050])"
   ]
  },
  {
   "cell_type": "code",
   "execution_count": 44,
   "metadata": {
    "collapsed": true
   },
   "outputs": [],
   "source": [
    "train_before=train_matrix.reshape(60000,784)\n",
    "\n"
   ]
  },
  {
   "cell_type": "code",
   "execution_count": 45,
   "metadata": {
    "collapsed": true
   },
   "outputs": [],
   "source": [
    "train_matrix=train_before/255.0"
   ]
  },
  {
   "cell_type": "code",
   "execution_count": 46,
   "metadata": {
    "collapsed": true
   },
   "outputs": [],
   "source": [
    "train_matrix=np.insert(train_matrix, 784, values=1, axis=1)"
   ]
  },
  {
   "cell_type": "code",
   "execution_count": 48,
   "metadata": {
    "collapsed": true
   },
   "outputs": [],
   "source": [
    "Ymatrix=np.zeros((len(Ytrain),10))"
   ]
  },
  {
   "cell_type": "code",
   "execution_count": 49,
   "metadata": {
    "collapsed": true
   },
   "outputs": [],
   "source": [
    "for i in range(len(Ymatrix)):\n",
    "    Ymatrix[i][int(Ytrain[i])]=1"
   ]
  },
  {
   "cell_type": "code",
   "execution_count": 112,
   "metadata": {
    "collapsed": true
   },
   "outputs": [],
   "source": [
    "from sklearn.utils import shuffle\n",
    "train_matrix, Ymatrix = shuffle(train_matrix, Ymatrix, random_state=0)"
   ]
  },
  {
   "cell_type": "code",
   "execution_count": 51,
   "metadata": {
    "collapsed": true
   },
   "outputs": [],
   "source": [
    "def sigmoid(x):\n",
    "    return 1/(1+np.exp(-x))"
   ]
  },
  {
   "cell_type": "code",
   "execution_count": 52,
   "metadata": {
    "collapsed": true
   },
   "outputs": [],
   "source": [
    "from sklearn.metrics import log_loss"
   ]
  },
  {
   "cell_type": "code",
   "execution_count": 267,
   "metadata": {
    "collapsed": true
   },
   "outputs": [],
   "source": [
    "class NeuralNetwork (object):\n",
    "    def __init__(self):\n",
    "        self.inpt=785\n",
    "        self.output=10\n",
    "        self.hidden=200\n",
    "        random.seed([2,1])\n",
    "        self.V=np.random.normal(0,0.01,[self.hidden,self.inpt])\n",
    "        random.seed([1,2])\n",
    "        self.W=np.random.normal(0,0.01,[self.output,self.hidden+1])\n",
    "        \n",
    "    def forwardprop(self,train,W,V):\n",
    "        self.p1=train.dot(V.transpose())\n",
    "        self.xj1=tanh(self.p1)\n",
    "        self.xj1=np.insert(self.xj1, 200, values=1, axis=1)\n",
    "        self.p2=self.xj1.dot(W.transpose())\n",
    "        self.xj2=sigmoid(self.p2)\n",
    "        return self.xj1,self.xj2\n",
    "    \n",
    "\n",
    "    def cross_entropy_loss(self,pred,Ytrain):\n",
    "        return np.sum(np.nan_to_num(-Ytrain*np.log(pred)-(1-Ytrain)*np.log(1-pred)))    \n",
    "    \n",
    "   \n",
    "    def dLdz2(self,pred,Ytrain):\n",
    "        y2=[-a+1 for a in Ytrain]\n",
    "        p2=[-a+1 for a in pred]\n",
    "        return (-(np.divide(Ytrain,pred)-np.divide(y2,p2)))\n",
    "            \n",
    "    \n",
    "    def backwardprop(self,X,Y,W,V):\n",
    "        self.h,self.pred=self.forwardprop(X,W,V)\n",
    "        delta3=np.multiply(self.dLdz2(self.pred,Y),self.pred*(1-self.pred))\n",
    "        dLdW=np.dot(self.h.transpose(),delta3)\n",
    "        delta2=np.dot(delta3,self.W)*(1-self.h**2)\n",
    "        dLdV=np.dot(X.transpose(),delta2)\n",
    "        return dLdW,dLdV\n",
    "    #def backward(self,Xtrain,Ytrain):\n",
    "    \n",
    "    def trainer(self,X,Y):\n",
    "        Wi=self.W\n",
    "        Vi=self.V\n",
    "        return self.stochgradient(X,Y,Wi,Vi)\n",
    "    \n",
    "    def stochgradient(self,X,Y,W,V):\n",
    "        eps = 0.00002\n",
    "        xj1,pred=self.forwardprop(X,W,V)\n",
    "        dLdW,dLdV=self.backwardprop(X,Y,W,V)\n",
    "        risk_fn=[0]*1000\n",
    "        for i in range(len(X)):\n",
    "            print(i)\n",
    "            xj1,pred=self.forwardprop(X,W,V)\n",
    "            dLdW,dLdV=self.backwardprop(X,Y,W,V)\n",
    "            if i%50==0:\n",
    "                j=int(i/50)\n",
    "                risk_fn[j]=self.cross_entropy_loss(pred,Y)\n",
    "                print(risk_fn[j])\n",
    "            W=W-eps*dLdW.transpose()\n",
    "            V=V-eps*dLdV[:,:200].transpose()\n",
    "        return W,V,risk_fn\n",
    "        "
   ]
  },
  {
   "cell_type": "code",
   "execution_count": 268,
   "metadata": {
    "collapsed": true
   },
   "outputs": [],
   "source": [
    "new=NeuralNetwork()"
   ]
  },
  {
   "cell_type": "code",
   "execution_count": 269,
   "metadata": {
    "collapsed": true
   },
   "outputs": [],
   "source": [
    "xj1,pred=new.forwardprop(train_matrix[:50000],np.random.normal(0,0.01,[10,201]),np.random.normal(0,0.01,[200,785]))"
   ]
  },
  {
   "cell_type": "code",
   "execution_count": null,
   "metadata": {
    "collapsed": false
   },
   "outputs": [
    {
     "name": "stdout",
     "output_type": "stream",
     "text": []
    }
   ],
   "source": [
    "start_time = timeit.default_timer()\n",
    "w2,v2,r2=new.trainer(train_matrix[:20000],Ymatrix[:20000])\n",
    "elapsed = timeit.default_timer() - start_time"
   ]
  },
  {
   "cell_type": "code",
   "execution_count": null,
   "metadata": {
    "collapsed": false
   },
   "outputs": [],
   "source": [
    "xj1,pred=new.forwardprop(train_matrix[50000:],w2,v2)"
   ]
  },
  {
   "cell_type": "code",
   "execution_count": null,
   "metadata": {
    "collapsed": false
   },
   "outputs": [],
   "source": [
    "pred_tuple=[0]*len(pred)"
   ]
  },
  {
   "cell_type": "code",
   "execution_count": null,
   "metadata": {
    "collapsed": true
   },
   "outputs": [],
   "source": [
    "for i in range(len(pred)):\n",
    "    pred_tuple[i]=np.argmax(pred[i])"
   ]
  },
  {
   "cell_type": "code",
   "execution_count": 96,
   "metadata": {
    "collapsed": false
   },
   "outputs": [],
   "source": [
    "def benchmark(pred_labels, true_labels):\n",
    "    errors = pred_labels != true_labels\n",
    "    err_rate = sum(errors) / float(len(true_labels))\n",
    "    indices = errors.nonzero()\n",
    "    return err_rate,indices"
   ]
  },
  {
   "cell_type": "code",
   "execution_count": null,
   "metadata": {
    "collapsed": true
   },
   "outputs": [],
   "source": [
    "y=np.zeros(10000)"
   ]
  },
  {
   "cell_type": "code",
   "execution_count": 193,
   "metadata": {
    "collapsed": true
   },
   "outputs": [],
   "source": [
    "for i in range(len(Ymatrix[50000:])):\n",
    "    y[i]=np.argmax(Ymatrix[50000+i])"
   ]
  },
  {
   "cell_type": "code",
   "execution_count": 263,
   "metadata": {
    "collapsed": false
   },
   "outputs": [
    {
     "data": {
      "text/plain": [
       "(0.054899999999999997,\n",
       " (array([   0,   14,   29,   31,   38,   55,   61,  112,  117,  135,  146,\n",
       "          168,  189,  204,  213,  219,  254,  260,  262,  279,  303,  307,\n",
       "          345,  348,  357,  364,  382,  407,  415,  421,  521,  565,  579,\n",
       "          594,  637,  640,  649,  659,  686,  698,  721,  733,  746,  774,\n",
       "          818,  819,  834,  838,  840,  847,  849,  855,  917,  922,  970,\n",
       "         1002, 1030, 1031, 1038, 1041, 1043, 1056, 1065, 1087, 1088, 1090,\n",
       "         1110, 1127, 1142, 1144, 1150, 1163, 1180, 1280, 1308, 1376, 1384,\n",
       "         1387, 1390, 1397, 1405, 1420, 1424, 1448, 1466, 1468, 1479, 1481,\n",
       "         1493, 1512, 1560, 1571, 1573, 1611, 1623, 1629, 1645, 1694, 1702,\n",
       "         1735, 1760, 1770, 1801, 1805, 1817, 1825, 1836, 1842, 1846, 1854,\n",
       "         1882, 1887, 1924, 1933, 1936, 1940, 1955, 1958, 1960, 1986, 2025,\n",
       "         2064, 2078, 2079, 2090, 2115, 2147, 2165, 2168, 2172, 2204, 2215,\n",
       "         2226, 2228, 2247, 2249, 2313, 2385, 2390, 2392, 2394, 2395, 2425,\n",
       "         2495, 2512, 2524, 2546, 2565, 2567, 2577, 2595, 2597, 2644, 2655,\n",
       "         2680, 2681, 2683, 2688, 2697, 2698, 2710, 2716, 2748, 2775, 2778,\n",
       "         2786, 2823, 2838, 2841, 2844, 2851, 2862, 2890, 2902, 2915, 2939,\n",
       "         2944, 2982, 2993, 3000, 3017, 3069, 3083, 3086, 3099, 3107, 3111,\n",
       "         3112, 3135, 3159, 3160, 3172, 3176, 3183, 3201, 3210, 3259, 3277,\n",
       "         3286, 3302, 3362, 3382, 3407, 3472, 3522, 3536, 3550, 3564, 3599,\n",
       "         3604, 3613, 3651, 3654, 3690, 3704, 3711, 3712, 3729, 3743, 3796,\n",
       "         3815, 3860, 3862, 3866, 3877, 3883, 3885, 3908, 3913, 3929, 3938,\n",
       "         3941, 3942, 3948, 3949, 3962, 3973, 3975, 3982, 3987, 4003, 4042,\n",
       "         4047, 4050, 4075, 4096, 4122, 4184, 4203, 4229, 4267, 4302, 4309,\n",
       "         4335, 4338, 4360, 4368, 4388, 4402, 4435, 4484, 4492, 4493, 4545,\n",
       "         4557, 4592, 4609, 4642, 4654, 4676, 4743, 4749, 4782, 4785, 4799,\n",
       "         4805, 4829, 4830, 4861, 4871, 4876, 4887, 4890, 4898, 4904, 4927,\n",
       "         4932, 4935, 4946, 4970, 4980, 4990, 4995, 5055, 5117, 5138, 5151,\n",
       "         5160, 5188, 5210, 5232, 5286, 5291, 5306, 5323, 5331, 5338, 5354,\n",
       "         5358, 5415, 5417, 5454, 5455, 5477, 5478, 5481, 5520, 5525, 5530,\n",
       "         5539, 5545, 5558, 5576, 5601, 5612, 5642, 5657, 5673, 5685, 5686,\n",
       "         5701, 5708, 5724, 5728, 5756, 5757, 5777, 5784, 5789, 5799, 5817,\n",
       "         5825, 5834, 5840, 5870, 5905, 5907, 5909, 5948, 5963, 6001, 6033,\n",
       "         6038, 6049, 6050, 6064, 6075, 6083, 6117, 6147, 6221, 6231, 6235,\n",
       "         6308, 6314, 6336, 6348, 6350, 6364, 6394, 6398, 6412, 6498, 6500,\n",
       "         6527, 6537, 6569, 6574, 6595, 6681, 6691, 6716, 6719, 6758, 6763,\n",
       "         6773, 6789, 6804, 6854, 6868, 6871, 6888, 6899, 6910, 6921, 6984,\n",
       "         7014, 7030, 7058, 7063, 7066, 7075, 7107, 7124, 7139, 7170, 7211,\n",
       "         7228, 7229, 7235, 7285, 7294, 7305, 7317, 7331, 7354, 7408, 7412,\n",
       "         7479, 7482, 7502, 7507, 7509, 7544, 7602, 7603, 7653, 7678, 7686,\n",
       "         7691, 7722, 7730, 7734, 7771, 7797, 7808, 7812, 7818, 7821, 7851,\n",
       "         7856, 7870, 7970, 8015, 8018, 8027, 8033, 8060, 8065, 8073, 8082,\n",
       "         8088, 8137, 8148, 8174, 8176, 8189, 8193, 8217, 8218, 8230, 8253,\n",
       "         8258, 8275, 8314, 8343, 8355, 8383, 8415, 8419, 8464, 8472, 8484,\n",
       "         8485, 8530, 8546, 8585, 8589, 8600, 8628, 8671, 8691, 8705, 8712,\n",
       "         8762, 8765, 8768, 8777, 8821, 8828, 8837, 8839, 8843, 8871, 8895,\n",
       "         8901, 8914, 8938, 8982, 9020, 9030, 9040, 9076, 9101, 9137, 9138,\n",
       "         9141, 9151, 9184, 9198, 9208, 9211, 9217, 9218, 9233, 9241, 9261,\n",
       "         9308, 9311, 9321, 9325, 9326, 9415, 9435, 9437, 9473, 9484, 9502,\n",
       "         9520, 9528, 9557, 9570, 9633, 9672, 9706, 9708, 9751, 9754, 9770,\n",
       "         9785, 9793, 9794, 9841, 9874, 9883, 9933, 9948, 9954, 9995]),))"
      ]
     },
     "execution_count": 263,
     "metadata": {},
     "output_type": "execute_result"
    }
   ],
   "source": [
    "benchmark(np.array(pred_tuple),np.array(y))"
   ]
  },
  {
   "cell_type": "code",
   "execution_count": 98,
   "metadata": {
    "collapsed": false
   },
   "outputs": [
    {
     "ename": "SyntaxError",
     "evalue": "invalid syntax (<ipython-input-98-e004515dde50>, line 1)",
     "output_type": "error",
     "traceback": [
      "\u001b[0;36m  File \u001b[0;32m\"<ipython-input-98-e004515dde50>\"\u001b[0;36m, line \u001b[0;32m1\u001b[0m\n\u001b[0;31m    error 100:0.44109999999999999\u001b[0m\n\u001b[0m            ^\u001b[0m\n\u001b[0;31mSyntaxError\u001b[0m\u001b[0;31m:\u001b[0m invalid syntax\n"
     ]
    }
   ],
   "source": [
    "error 100:0.44109999999999999\n",
    "    200: 0.28210000000000002\n",
    "        500:0.21829999999999999\n",
    "            1000:0.1711\n",
    "                2000:0.1545\n",
    "                    5000:0.1014\n",
    "                        10000:0.054899999999999997\n",
    "                            20000:\n",
    "                                50000:"
   ]
  },
  {
   "cell_type": "code",
   "execution_count": null,
   "metadata": {
    "collapsed": false
   },
   "outputs": [],
   "source": [
    "x=range(1,50000,125)\n",
    "\n",
    "plt.plot(x,risk_fn)\n",
    "plt.xlabel('Iterations', fontsize=18)\n",
    "plt.ylabel('Loss function', fontsize=16)"
   ]
  },
  {
   "cell_type": "code",
   "execution_count": null,
   "metadata": {
    "collapsed": false
   },
   "outputs": [
    {
     "data": {
      "text/plain": [
       "400.0"
      ]
     },
     "execution_count": 271,
     "metadata": {},
     "output_type": "execute_result"
    }
   ],
   "source": [
    "20000/50\n"
   ]
  },
  {
   "cell_type": "code",
   "execution_count": null,
   "metadata": {
    "collapsed": true
   },
   "outputs": [],
   "source": []
  }
 ],
 "metadata": {
  "kernelspec": {
   "display_name": "Python 3",
   "language": "python",
   "name": "python3"
  },
  "language_info": {
   "codemirror_mode": {
    "name": "ipython",
    "version": 3
   },
   "file_extension": ".py",
   "mimetype": "text/x-python",
   "name": "python",
   "nbconvert_exporter": "python",
   "pygments_lexer": "ipython3",
   "version": "3.5.1"
  }
 },
 "nbformat": 4,
 "nbformat_minor": 0
}
